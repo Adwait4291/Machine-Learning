{
 "cells": [
  {
   "cell_type": "code",
   "execution_count": 1,
   "id": "c98ba4f5",
   "metadata": {},
   "outputs": [],
   "source": [
    "import numpy as np\n",
    "# stats library\n",
    "import scipy.stats as st\n",
    "import numpy as np\n",
    "import pandas as pd\n",
    "import matplotlib.pyplot as plt\n",
    "import seaborn as sns\n",
    "sns.set()\n",
    "%matplotlib inline"
   ]
  },
  {
   "cell_type": "code",
   "execution_count": 19,
   "id": "429d306a",
   "metadata": {},
   "outputs": [],
   "source": [
    "x= [14.9,14.9,14.9,14.9,15.1]"
   ]
  },
  {
   "cell_type": "code",
   "execution_count": 20,
   "id": "d2526c1b",
   "metadata": {},
   "outputs": [
    {
     "data": {
      "text/plain": [
       "14.940000000000001"
      ]
     },
     "execution_count": 20,
     "metadata": {},
     "output_type": "execute_result"
    }
   ],
   "source": [
    "np.mean(x)"
   ]
  },
  {
   "cell_type": "code",
   "execution_count": 24,
   "id": "65bb3974",
   "metadata": {},
   "outputs": [],
   "source": [
    "y= [149,149,149,149,151]"
   ]
  },
  {
   "cell_type": "code",
   "execution_count": 25,
   "id": "483debfe",
   "metadata": {},
   "outputs": [
    {
     "data": {
      "text/plain": [
       "149.4"
      ]
     },
     "execution_count": 25,
     "metadata": {},
     "output_type": "execute_result"
    }
   ],
   "source": [
    "np.mean(y)"
   ]
  },
  {
   "cell_type": "code",
   "execution_count": 23,
   "id": "742b1815",
   "metadata": {},
   "outputs": [
    {
     "data": {
      "text/plain": [
       "TtestResult(statistic=-2126.5000000000077, pvalue=1.4670978013761223e-13, df=4)"
      ]
     },
     "execution_count": 23,
     "metadata": {},
     "output_type": "execute_result"
    }
   ],
   "source": [
    "#H0>=100\n",
    "#Ha<100\n",
    "\n",
    "st.ttest_1samp(x,100,alternative='less')"
   ]
  },
  {
   "cell_type": "code",
   "execution_count": 27,
   "id": "b7267c20",
   "metadata": {},
   "outputs": [
    {
     "data": {
      "text/plain": [
       "TtestResult(statistic=-126.49999999999999, pvalue=1.1710575644309817e-08, df=4)"
      ]
     },
     "execution_count": 27,
     "metadata": {},
     "output_type": "execute_result"
    }
   ],
   "source": [
    "#H0>=100\n",
    "#Ha<100\n",
    "\n",
    "st.ttest_1samp(y,200,alternative='less')"
   ]
  },
  {
   "cell_type": "code",
   "execution_count": 9,
   "id": "ee530423",
   "metadata": {},
   "outputs": [
    {
     "data": {
      "text/plain": [
       "TtestResult(statistic=-9.000000000000018, pvalue=0.00042191625880063575, df=4)"
      ]
     },
     "execution_count": 9,
     "metadata": {},
     "output_type": "execute_result"
    }
   ],
   "source": [
    "#H0>=15.3\n",
    "#Ha<15.3\n",
    "\n",
    "st.ttest_1samp(x,15.3,alternative='less')"
   ]
  },
  {
   "cell_type": "code",
   "execution_count": 10,
   "id": "b702027f",
   "metadata": {},
   "outputs": [
    {
     "data": {
      "text/plain": [
       "TtestResult(statistic=-1.7499999999999691, pvalue=0.07750810557108627, df=4)"
      ]
     },
     "execution_count": 10,
     "metadata": {},
     "output_type": "execute_result"
    }
   ],
   "source": [
    "#H0>=15.01\n",
    "#Ha<15.01\n",
    "\n",
    "st.ttest_1samp(x,15.01,alternative='less')"
   ]
  },
  {
   "cell_type": "code",
   "execution_count": null,
   "id": "da56e4c7",
   "metadata": {},
   "outputs": [],
   "source": []
  },
  {
   "cell_type": "code",
   "execution_count": null,
   "id": "e1b5b7be",
   "metadata": {},
   "outputs": [],
   "source": [
    "st.ttest_1samp(x,15,alternative='less')"
   ]
  },
  {
   "cell_type": "code",
   "execution_count": null,
   "id": "1b1370a4",
   "metadata": {},
   "outputs": [],
   "source": [
    "x= [1,1,1.5,1.5,17]"
   ]
  },
  {
   "cell_type": "code",
   "execution_count": null,
   "id": "e6409d3a",
   "metadata": {},
   "outputs": [],
   "source": [
    "st.ttest_1samp(x,15,alternative='less')"
   ]
  },
  {
   "cell_type": "code",
   "execution_count": null,
   "id": "dd61c98b",
   "metadata": {},
   "outputs": [],
   "source": []
  },
  {
   "cell_type": "code",
   "execution_count": null,
   "id": "51ccc870",
   "metadata": {},
   "outputs": [],
   "source": [
    "x= np.array([74,81,77,59,58])"
   ]
  },
  {
   "cell_type": "code",
   "execution_count": null,
   "id": "5c56aeec",
   "metadata": {},
   "outputs": [],
   "source": [
    "y= np.array([60,61,61.5,59,58])"
   ]
  },
  {
   "cell_type": "code",
   "execution_count": null,
   "id": "53fd5f33",
   "metadata": {},
   "outputs": [],
   "source": [
    "z= np.array([60,61,61.5,19,18])"
   ]
  },
  {
   "cell_type": "code",
   "execution_count": null,
   "id": "fc32ec62",
   "metadata": {},
   "outputs": [],
   "source": [
    "a= np.array([60,60,1,1,0.5])"
   ]
  },
  {
   "cell_type": "code",
   "execution_count": null,
   "id": "84c70392",
   "metadata": {},
   "outputs": [],
   "source": [
    "x.mean()"
   ]
  },
  {
   "cell_type": "code",
   "execution_count": null,
   "id": "536c70aa",
   "metadata": {},
   "outputs": [],
   "source": [
    "# H0 >=12\n",
    "st.ttest_1samp(x,60,alternative='less')"
   ]
  },
  {
   "cell_type": "code",
   "execution_count": null,
   "id": "8c6e92f9",
   "metadata": {},
   "outputs": [],
   "source": [
    "# H0 >=12\n",
    "st.ttest_1samp(y,60,alternative='less')"
   ]
  },
  {
   "cell_type": "code",
   "execution_count": null,
   "id": "f74f6793",
   "metadata": {},
   "outputs": [],
   "source": [
    "# H0 >=12\n",
    "st.ttest_1samp(z,60,alternative='less')"
   ]
  },
  {
   "cell_type": "code",
   "execution_count": null,
   "id": "e47ad982",
   "metadata": {},
   "outputs": [],
   "source": [
    "# H0 >=12\n",
    "st.ttest_1samp(a,60,alternative='less')"
   ]
  },
  {
   "cell_type": "code",
   "execution_count": null,
   "id": "c7f52305",
   "metadata": {},
   "outputs": [],
   "source": [
    "# H0 >=20\n",
    "st.ttest_1samp(x,20,alternative='less')"
   ]
  },
  {
   "cell_type": "code",
   "execution_count": null,
   "id": "687fad3b",
   "metadata": {},
   "outputs": [],
   "source": [
    "# H0>=100\n",
    "st.ttest_1samp(x,100,alternative='less')\n",
    "# 0.0000000894"
   ]
  },
  {
   "cell_type": "code",
   "execution_count": null,
   "id": "f85f0172",
   "metadata": {},
   "outputs": [],
   "source": [
    "st.ttest_1samp(x,10.4,alternative='less')"
   ]
  },
  {
   "cell_type": "code",
   "execution_count": null,
   "id": "8af24d17",
   "metadata": {},
   "outputs": [],
   "source": []
  },
  {
   "cell_type": "code",
   "execution_count": null,
   "id": "a76691ee",
   "metadata": {},
   "outputs": [],
   "source": [
    "# Null : Mean is greater than or equal to 20\n",
    "# Alt: Mean is less than 20\n",
    "st.ttest_1samp(x,20,alternative='less')"
   ]
  },
  {
   "cell_type": "code",
   "execution_count": null,
   "id": "c79624dd",
   "metadata": {},
   "outputs": [],
   "source": [
    "# Null : Mean is greater than or equal to 10.4\n",
    "# Alt: Mean is less than 10.4\n",
    "st.ttest_1samp(x,10.4,alternative='less')"
   ]
  },
  {
   "cell_type": "code",
   "execution_count": null,
   "id": "94c3e1f4",
   "metadata": {},
   "outputs": [],
   "source": [
    "# Null : Mean is greater than or equal to 3.4\n",
    "# Alt: Mean is less than 3.4\n",
    "st.ttest_1samp(x,3.4,alternative='less')"
   ]
  },
  {
   "cell_type": "code",
   "execution_count": null,
   "id": "ab86ec42",
   "metadata": {},
   "outputs": [],
   "source": [
    "# Null : Mean is greater than or equal to 1000\n",
    "# Alt: Mean is less than 1000\n",
    "st.ttest_1samp(x,1000,alternative='less')"
   ]
  },
  {
   "cell_type": "code",
   "execution_count": null,
   "id": "a1f5ae9e",
   "metadata": {},
   "outputs": [],
   "source": [
    "x= np.array([3,4,14.9,6,14.88,14.88,25,1,14.88,14.88,12])"
   ]
  },
  {
   "cell_type": "code",
   "execution_count": null,
   "id": "0d41e898",
   "metadata": {},
   "outputs": [],
   "source": [
    "x.shape"
   ]
  },
  {
   "cell_type": "code",
   "execution_count": null,
   "id": "d3eaa9fa",
   "metadata": {},
   "outputs": [],
   "source": [
    "st.ttest_1samp(x,15,alternative='less')"
   ]
  },
  {
   "cell_type": "code",
   "execution_count": null,
   "id": "42c087a2",
   "metadata": {},
   "outputs": [],
   "source": []
  },
  {
   "cell_type": "code",
   "execution_count": null,
   "id": "81804432",
   "metadata": {},
   "outputs": [],
   "source": [
    "# Null: mean >=10.6. Actual mean 10.3\n",
    "st.ttest_1samp(x,10.6,alternative='less')"
   ]
  },
  {
   "cell_type": "code",
   "execution_count": null,
   "id": "044da7b2",
   "metadata": {},
   "outputs": [],
   "source": [
    "# Null: mean >=10.2. Actual mean 10.3\n",
    "st.ttest_1samp(x,10.2,alternative='less')"
   ]
  },
  {
   "cell_type": "code",
   "execution_count": null,
   "id": "f9ee4bb0",
   "metadata": {},
   "outputs": [],
   "source": [
    "# Null: mean >=100. Actual mean 100\n",
    "st.ttest_1samp(x,100,alternative='less')"
   ]
  },
  {
   "cell_type": "code",
   "execution_count": null,
   "id": "7d8cb846",
   "metadata": {},
   "outputs": [],
   "source": [
    "x= np.array([15.1,15.2,15.3,15.4,15.00003])"
   ]
  },
  {
   "cell_type": "code",
   "execution_count": null,
   "id": "2a165d4a",
   "metadata": {},
   "outputs": [],
   "source": [
    "x= np.array([15.1,15.2,15.00003,15.00003,15.00003])"
   ]
  },
  {
   "cell_type": "code",
   "execution_count": null,
   "id": "036253d7",
   "metadata": {},
   "outputs": [],
   "source": [
    "x.mean()"
   ]
  },
  {
   "cell_type": "code",
   "execution_count": null,
   "id": "e679c79a",
   "metadata": {},
   "outputs": [],
   "source": [
    "st.ttest_1samp(x,15,alternative='greater')"
   ]
  },
  {
   "cell_type": "code",
   "execution_count": null,
   "id": "48e72b8c",
   "metadata": {},
   "outputs": [],
   "source": [
    "y= np.array([15.1,15.2,14.3,15.4,15.03,15.2,15.3,15.5,15.4,15.03,15.2,15.3,15.5,15.4])"
   ]
  },
  {
   "cell_type": "code",
   "execution_count": null,
   "id": "9794305d",
   "metadata": {},
   "outputs": [],
   "source": [
    "st.ttest_1samp(y,15,alternative='greater')"
   ]
  },
  {
   "cell_type": "code",
   "execution_count": null,
   "id": "207ba552",
   "metadata": {},
   "outputs": [],
   "source": [
    "y.mean()"
   ]
  },
  {
   "cell_type": "code",
   "execution_count": null,
   "id": "f39ef4e7",
   "metadata": {},
   "outputs": [],
   "source": [
    "# Null Hyp: >=22\n",
    "st.ttest_1samp(x,22,alternative=\"less\")"
   ]
  },
  {
   "cell_type": "code",
   "execution_count": null,
   "id": "d7247664",
   "metadata": {},
   "outputs": [],
   "source": [
    "# Null Hyp: >=12\n",
    "st.ttest_1samp(x,12,alternative=\"less\")"
   ]
  },
  {
   "cell_type": "code",
   "execution_count": null,
   "id": "4099283d",
   "metadata": {},
   "outputs": [],
   "source": [
    "# Null Hyp: >=10.4\n",
    "st.ttest_1samp(x,10.4,alternative=\"less\")"
   ]
  },
  {
   "cell_type": "code",
   "execution_count": null,
   "id": "85f01c0a",
   "metadata": {},
   "outputs": [],
   "source": [
    "# Null Hyp: >=15\n",
    "st.ttest_1samp(x,100,alternative=\"less\")"
   ]
  },
  {
   "cell_type": "markdown",
   "id": "67f752f0",
   "metadata": {},
   "source": [
    "# H0>= 10"
   ]
  },
  {
   "cell_type": "code",
   "execution_count": null,
   "id": "7bb3e1ff",
   "metadata": {},
   "outputs": [],
   "source": [
    "# Null Hyp: >=10.5\n",
    "st.ttest_1samp(x,22,alternative=\"less\")"
   ]
  },
  {
   "cell_type": "code",
   "execution_count": null,
   "id": "35a55541",
   "metadata": {},
   "outputs": [],
   "source": [
    "y= 2,3,4,5,15"
   ]
  },
  {
   "cell_type": "code",
   "execution_count": null,
   "id": "9feef050",
   "metadata": {},
   "outputs": [],
   "source": [
    "st.ttest_1samp(y,10,alternative=\"less\")"
   ]
  },
  {
   "cell_type": "code",
   "execution_count": null,
   "id": "0aaf95a6",
   "metadata": {},
   "outputs": [],
   "source": [
    "y= 2,3,4,5,50,2,3,3,4,5,6,7,4,3,2,3,4,5,6,7,4,3,2,4,5"
   ]
  },
  {
   "cell_type": "code",
   "execution_count": null,
   "id": "0730571e",
   "metadata": {},
   "outputs": [],
   "source": [
    "st.ttest_1samp(y,10,alternative=\"less\")"
   ]
  },
  {
   "cell_type": "code",
   "execution_count": null,
   "id": "c7b16025",
   "metadata": {},
   "outputs": [],
   "source": [
    "st.ttest_1samp(y,10,alternative=\"less\")"
   ]
  },
  {
   "cell_type": "code",
   "execution_count": null,
   "id": "309a9f92",
   "metadata": {},
   "outputs": [],
   "source": [
    "y= 2,3,4,5,50,2,3,3,4,5,6,7,14,3,25,3,4,50,6,70,4,35,2,4,5"
   ]
  },
  {
   "cell_type": "code",
   "execution_count": null,
   "id": "e1318220",
   "metadata": {},
   "outputs": [],
   "source": [
    "st.ttest_1samp(y,10,alternative=\"less\")"
   ]
  },
  {
   "cell_type": "code",
   "execution_count": null,
   "id": "aafd445f",
   "metadata": {},
   "outputs": [],
   "source": [
    "st.ttest_1samp(z,10,alternative=\"less\")"
   ]
  },
  {
   "cell_type": "code",
   "execution_count": null,
   "id": "cf4f50d1",
   "metadata": {},
   "outputs": [],
   "source": [
    "np.mean(x)"
   ]
  },
  {
   "cell_type": "markdown",
   "id": "2c1cf085",
   "metadata": {},
   "source": [
    "## Assumption is that Null Hypothesis is Correct and we have reject the null Hypothesis"
   ]
  },
  {
   "cell_type": "markdown",
   "id": "d9a0b21c",
   "metadata": {},
   "source": [
    "If alternative is less than 12 then null is greater than or equal to 12. You can see that means is around 8.5. so we can reject this null hypothesis that mean is >=12 hence we gat a very small p Value"
   ]
  },
  {
   "cell_type": "code",
   "execution_count": null,
   "id": "97a77be6",
   "metadata": {},
   "outputs": [],
   "source": [
    "st.ttest_1samp(x,10,alternative=\"less\")\n"
   ]
  },
  {
   "cell_type": "code",
   "execution_count": null,
   "id": "266d4c41",
   "metadata": {},
   "outputs": [],
   "source": [
    "st.ttest_1samp(y,10,alternative=\"less\")"
   ]
  },
  {
   "cell_type": "code",
   "execution_count": null,
   "id": "d12c0912",
   "metadata": {},
   "outputs": [],
   "source": [
    "st.ttest_1samp(z,10,alternative=\"less\")"
   ]
  },
  {
   "cell_type": "code",
   "execution_count": null,
   "id": "25ce3c83",
   "metadata": {},
   "outputs": [],
   "source": [
    "st.ttest_1samp(x,56,alternative=\"less\")"
   ]
  },
  {
   "cell_type": "code",
   "execution_count": null,
   "id": "04a23977",
   "metadata": {},
   "outputs": [],
   "source": [
    "np.mean(x)"
   ]
  },
  {
   "cell_type": "markdown",
   "id": "ac8686c8",
   "metadata": {},
   "source": [
    "If alternative is greater 12 then null is leass than or equal to 12. You can see that means is around 8.5 so we fail to reject this null hypothesis that mean is >=12 hence we gat a large p Value"
   ]
  },
  {
   "cell_type": "code",
   "execution_count": null,
   "id": "9a6c2f05",
   "metadata": {},
   "outputs": [],
   "source": [
    "st.ttest_1samp(x,12,alternative=\"greater\")"
   ]
  },
  {
   "cell_type": "code",
   "execution_count": null,
   "id": "bd36fe38",
   "metadata": {},
   "outputs": [],
   "source": [
    "np.mean(x)"
   ]
  },
  {
   "cell_type": "markdown",
   "id": "92b7bf1b",
   "metadata": {},
   "source": [
    "## Lets reverse the trend by assuming mean as 3"
   ]
  },
  {
   "cell_type": "code",
   "execution_count": null,
   "id": "3055261e",
   "metadata": {},
   "outputs": [],
   "source": [
    "st.ttest_1samp(x,3,alternative=\"less\")"
   ]
  },
  {
   "cell_type": "code",
   "execution_count": null,
   "id": "17d1b393",
   "metadata": {},
   "outputs": [],
   "source": [
    "st.ttest_1samp(x,3,alternative=\"greater\")"
   ]
  },
  {
   "cell_type": "code",
   "execution_count": null,
   "id": "73f6e4b8",
   "metadata": {},
   "outputs": [],
   "source": []
  },
  {
   "cell_type": "code",
   "execution_count": null,
   "id": "355f4b24",
   "metadata": {},
   "outputs": [],
   "source": [
    "x= 4,5,6,3,5,6,3,4,5,6,7,10,14,15,16,17,18"
   ]
  },
  {
   "cell_type": "code",
   "execution_count": null,
   "id": "c1fd3711",
   "metadata": {},
   "outputs": [],
   "source": [
    "np.mean(x)"
   ]
  },
  {
   "cell_type": "markdown",
   "id": "9f4dc065",
   "metadata": {},
   "source": [
    "# what do you make of the following code"
   ]
  },
  {
   "cell_type": "code",
   "execution_count": null,
   "id": "fcff71d6",
   "metadata": {},
   "outputs": [],
   "source": [
    "st.ttest_1samp(x,12,alternative=\"less\")"
   ]
  },
  {
   "cell_type": "code",
   "execution_count": null,
   "id": "d4f8cfc7",
   "metadata": {},
   "outputs": [],
   "source": [
    "st.ttest_1samp(x,9,alternative=\"less\")"
   ]
  },
  {
   "cell_type": "code",
   "execution_count": null,
   "id": "ca88d57c",
   "metadata": {},
   "outputs": [],
   "source": [
    "st.ttest_1samp(x,50,alternative=\"less\")"
   ]
  },
  {
   "cell_type": "code",
   "execution_count": null,
   "id": "54775ec4",
   "metadata": {},
   "outputs": [],
   "source": [
    "st.ttest_1samp(x,3,alternative=\"less\")"
   ]
  },
  {
   "cell_type": "code",
   "execution_count": null,
   "id": "c79e0425",
   "metadata": {},
   "outputs": [],
   "source": []
  }
 ],
 "metadata": {
  "kernelspec": {
   "display_name": "Python 3 (ipykernel)",
   "language": "python",
   "name": "python3"
  },
  "language_info": {
   "codemirror_mode": {
    "name": "ipython",
    "version": 3
   },
   "file_extension": ".py",
   "mimetype": "text/x-python",
   "name": "python",
   "nbconvert_exporter": "python",
   "pygments_lexer": "ipython3",
   "version": "3.11.5"
  }
 },
 "nbformat": 4,
 "nbformat_minor": 5
}
