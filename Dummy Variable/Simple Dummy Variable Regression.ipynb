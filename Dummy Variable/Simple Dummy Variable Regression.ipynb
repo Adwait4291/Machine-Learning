{
 "cells": [
  {
   "cell_type": "code",
   "execution_count": 1,
   "id": "98c6084b",
   "metadata": {},
   "outputs": [],
   "source": [
    "import numpy as np\n",
    "import pandas as pd\n",
    "import matplotlib.pyplot as plt\n",
    "import seaborn as sns\n",
    "sns.set()"
   ]
  },
  {
   "cell_type": "code",
   "execution_count": 2,
   "id": "e8937a7e",
   "metadata": {},
   "outputs": [],
   "source": [
    "import statsmodels.api as sm"
   ]
  },
  {
   "cell_type": "code",
   "execution_count": 3,
   "id": "6a2e8ee5",
   "metadata": {},
   "outputs": [],
   "source": [
    "data= pd.read_csv('reg_dummy_explaination.csv')"
   ]
  },
  {
   "cell_type": "code",
   "execution_count": 4,
   "id": "ddbdab64",
   "metadata": {},
   "outputs": [
    {
     "data": {
      "text/html": [
       "<div>\n",
       "<style scoped>\n",
       "    .dataframe tbody tr th:only-of-type {\n",
       "        vertical-align: middle;\n",
       "    }\n",
       "\n",
       "    .dataframe tbody tr th {\n",
       "        vertical-align: top;\n",
       "    }\n",
       "\n",
       "    .dataframe thead th {\n",
       "        text-align: right;\n",
       "    }\n",
       "</style>\n",
       "<table border=\"1\" class=\"dataframe\">\n",
       "  <thead>\n",
       "    <tr style=\"text-align: right;\">\n",
       "      <th></th>\n",
       "      <th>exp</th>\n",
       "      <th>salary</th>\n",
       "      <th>gender</th>\n",
       "    </tr>\n",
       "  </thead>\n",
       "  <tbody>\n",
       "    <tr>\n",
       "      <th>0</th>\n",
       "      <td>2.0</td>\n",
       "      <td>350000</td>\n",
       "      <td>F</td>\n",
       "    </tr>\n",
       "    <tr>\n",
       "      <th>1</th>\n",
       "      <td>2.0</td>\n",
       "      <td>360000</td>\n",
       "      <td>M</td>\n",
       "    </tr>\n",
       "    <tr>\n",
       "      <th>2</th>\n",
       "      <td>4.0</td>\n",
       "      <td>400000</td>\n",
       "      <td>F</td>\n",
       "    </tr>\n",
       "    <tr>\n",
       "      <th>3</th>\n",
       "      <td>4.0</td>\n",
       "      <td>900000</td>\n",
       "      <td>M</td>\n",
       "    </tr>\n",
       "    <tr>\n",
       "      <th>4</th>\n",
       "      <td>5.6</td>\n",
       "      <td>450000</td>\n",
       "      <td>F</td>\n",
       "    </tr>\n",
       "    <tr>\n",
       "      <th>5</th>\n",
       "      <td>5.6</td>\n",
       "      <td>750000</td>\n",
       "      <td>M</td>\n",
       "    </tr>\n",
       "    <tr>\n",
       "      <th>6</th>\n",
       "      <td>7.0</td>\n",
       "      <td>450000</td>\n",
       "      <td>F</td>\n",
       "    </tr>\n",
       "    <tr>\n",
       "      <th>7</th>\n",
       "      <td>7.0</td>\n",
       "      <td>770000</td>\n",
       "      <td>M</td>\n",
       "    </tr>\n",
       "    <tr>\n",
       "      <th>8</th>\n",
       "      <td>8.0</td>\n",
       "      <td>1000000</td>\n",
       "      <td>M</td>\n",
       "    </tr>\n",
       "    <tr>\n",
       "      <th>9</th>\n",
       "      <td>8.0</td>\n",
       "      <td>900000</td>\n",
       "      <td>F</td>\n",
       "    </tr>\n",
       "  </tbody>\n",
       "</table>\n",
       "</div>"
      ],
      "text/plain": [
       "   exp   salary gender\n",
       "0  2.0   350000      F\n",
       "1  2.0   360000      M\n",
       "2  4.0   400000      F\n",
       "3  4.0   900000      M\n",
       "4  5.6   450000      F\n",
       "5  5.6   750000      M\n",
       "6  7.0   450000      F\n",
       "7  7.0   770000      M\n",
       "8  8.0  1000000      M\n",
       "9  8.0   900000      F"
      ]
     },
     "execution_count": 4,
     "metadata": {},
     "output_type": "execute_result"
    }
   ],
   "source": [
    "data.head(10)"
   ]
  },
  {
   "cell_type": "code",
   "execution_count": 5,
   "id": "f6311afa",
   "metadata": {},
   "outputs": [
    {
     "data": {
      "text/html": [
       "<div>\n",
       "<style scoped>\n",
       "    .dataframe tbody tr th:only-of-type {\n",
       "        vertical-align: middle;\n",
       "    }\n",
       "\n",
       "    .dataframe tbody tr th {\n",
       "        vertical-align: top;\n",
       "    }\n",
       "\n",
       "    .dataframe thead th {\n",
       "        text-align: right;\n",
       "    }\n",
       "</style>\n",
       "<table border=\"1\" class=\"dataframe\">\n",
       "  <thead>\n",
       "    <tr style=\"text-align: right;\">\n",
       "      <th></th>\n",
       "      <th>exp</th>\n",
       "      <th>salary</th>\n",
       "      <th>gender</th>\n",
       "    </tr>\n",
       "  </thead>\n",
       "  <tbody>\n",
       "    <tr>\n",
       "      <th>0</th>\n",
       "      <td>2.0</td>\n",
       "      <td>350.0</td>\n",
       "      <td>F</td>\n",
       "    </tr>\n",
       "    <tr>\n",
       "      <th>1</th>\n",
       "      <td>2.0</td>\n",
       "      <td>360.0</td>\n",
       "      <td>M</td>\n",
       "    </tr>\n",
       "    <tr>\n",
       "      <th>2</th>\n",
       "      <td>4.0</td>\n",
       "      <td>400.0</td>\n",
       "      <td>F</td>\n",
       "    </tr>\n",
       "    <tr>\n",
       "      <th>3</th>\n",
       "      <td>4.0</td>\n",
       "      <td>900.0</td>\n",
       "      <td>M</td>\n",
       "    </tr>\n",
       "    <tr>\n",
       "      <th>4</th>\n",
       "      <td>5.6</td>\n",
       "      <td>450.0</td>\n",
       "      <td>F</td>\n",
       "    </tr>\n",
       "  </tbody>\n",
       "</table>\n",
       "</div>"
      ],
      "text/plain": [
       "   exp  salary gender\n",
       "0  2.0   350.0      F\n",
       "1  2.0   360.0      M\n",
       "2  4.0   400.0      F\n",
       "3  4.0   900.0      M\n",
       "4  5.6   450.0      F"
      ]
     },
     "execution_count": 5,
     "metadata": {},
     "output_type": "execute_result"
    }
   ],
   "source": [
    "data['salary']=data['salary']/1000\n",
    "data.head()"
   ]
  },
  {
   "cell_type": "markdown",
   "id": "d0a99baa",
   "metadata": {},
   "source": [
    "#### .copy is a good option to follow in practical work"
   ]
  },
  {
   "cell_type": "markdown",
   "id": "a4a1b11c",
   "metadata": {},
   "source": [
    "# Solution Process starts from here"
   ]
  },
  {
   "cell_type": "code",
   "execution_count": null,
   "id": "510ed3b3",
   "metadata": {},
   "outputs": [],
   "source": [
    "df= data.copy()"
   ]
  },
  {
   "cell_type": "code",
   "execution_count": null,
   "id": "5778cb0d",
   "metadata": {},
   "outputs": [],
   "source": [
    "df.tail()"
   ]
  },
  {
   "cell_type": "code",
   "execution_count": null,
   "id": "127bf240",
   "metadata": {},
   "outputs": [],
   "source": [
    "sns.scatterplot(x='exp',y='salary',data=df);"
   ]
  },
  {
   "cell_type": "code",
   "execution_count": null,
   "id": "b40cb604",
   "metadata": {},
   "outputs": [],
   "source": [
    "sns.scatterplot(x='exp',y='salary',data=df,hue='gender');"
   ]
  },
  {
   "cell_type": "code",
   "execution_count": null,
   "id": "c8de4549",
   "metadata": {},
   "outputs": [],
   "source": [
    "sns.scatterplot(x='exp',y='salary',data=df,hue='gender');"
   ]
  },
  {
   "cell_type": "code",
   "execution_count": null,
   "id": "f31bc13f",
   "metadata": {},
   "outputs": [],
   "source": [
    "x1= df.iloc[:,[0,2]]\n",
    "x1.head()"
   ]
  },
  {
   "cell_type": "code",
   "execution_count": null,
   "id": "fbde2d5d",
   "metadata": {},
   "outputs": [],
   "source": [
    "y= df.iloc[:,1]\n",
    "y.head()"
   ]
  },
  {
   "cell_type": "code",
   "execution_count": null,
   "id": "2fc661a2",
   "metadata": {},
   "outputs": [],
   "source": [
    "x1.head()"
   ]
  },
  {
   "cell_type": "code",
   "execution_count": null,
   "id": "8c44f7c2",
   "metadata": {},
   "outputs": [],
   "source": [
    "X= sm.add_constant(x1)"
   ]
  },
  {
   "cell_type": "code",
   "execution_count": null,
   "id": "2785c542",
   "metadata": {},
   "outputs": [],
   "source": [
    "X.head()"
   ]
  },
  {
   "cell_type": "code",
   "execution_count": null,
   "id": "d1142890",
   "metadata": {},
   "outputs": [],
   "source": [
    "df['gender'].unique()"
   ]
  },
  {
   "cell_type": "code",
   "execution_count": null,
   "id": "b149977d",
   "metadata": {},
   "outputs": [],
   "source": []
  },
  {
   "cell_type": "code",
   "execution_count": null,
   "id": "659590c0",
   "metadata": {},
   "outputs": [],
   "source": []
  },
  {
   "cell_type": "code",
   "execution_count": null,
   "id": "5fc86a16",
   "metadata": {},
   "outputs": [],
   "source": [
    "#X= pd.get_dummies(X)"
   ]
  },
  {
   "cell_type": "code",
   "execution_count": null,
   "id": "2aceb03e",
   "metadata": {},
   "outputs": [],
   "source": [
    "X.head()"
   ]
  },
  {
   "cell_type": "code",
   "execution_count": null,
   "id": "ba650464",
   "metadata": {},
   "outputs": [],
   "source": [
    "X= pd.get_dummies(X,drop_first=True)\n"
   ]
  },
  {
   "cell_type": "code",
   "execution_count": null,
   "id": "f8aa1641",
   "metadata": {},
   "outputs": [],
   "source": [
    "X.head()"
   ]
  },
  {
   "cell_type": "code",
   "execution_count": null,
   "id": "5bc4c5f5",
   "metadata": {},
   "outputs": [],
   "source": [
    "X.head()"
   ]
  },
  {
   "cell_type": "code",
   "execution_count": null,
   "id": "f737f97d",
   "metadata": {},
   "outputs": [],
   "source": [
    "model=sm.OLS(y,X).fit()"
   ]
  },
  {
   "cell_type": "code",
   "execution_count": null,
   "id": "2d2778da",
   "metadata": {},
   "outputs": [],
   "source": [
    "model.summary()"
   ]
  },
  {
   "cell_type": "code",
   "execution_count": null,
   "id": "290ab322",
   "metadata": {},
   "outputs": [],
   "source": [
    "-8.895e+05\n",
    "\n"
   ]
  },
  {
   "cell_type": "code",
   "execution_count": null,
   "id": "ce04658c",
   "metadata": {},
   "outputs": [],
   "source": [
    "2.269e+05"
   ]
  },
  {
   "cell_type": "code",
   "execution_count": null,
   "id": "7cf406d9",
   "metadata": {},
   "outputs": [],
   "source": [
    "5.084e+05"
   ]
  },
  {
   "cell_type": "markdown",
   "id": "063d9884",
   "metadata": {},
   "source": [
    "###  1. Salary of male is not different than female (assume everything else is constant)\n",
    "### 2. Gender does not determine the salary (assume everything else is constant)"
   ]
  },
  {
   "cell_type": "code",
   "execution_count": null,
   "id": "57a4b765",
   "metadata": {},
   "outputs": [],
   "source": []
  }
 ],
 "metadata": {
  "kernelspec": {
   "display_name": "Python 3 (ipykernel)",
   "language": "python",
   "name": "python3"
  },
  "language_info": {
   "codemirror_mode": {
    "name": "ipython",
    "version": 3
   },
   "file_extension": ".py",
   "mimetype": "text/x-python",
   "name": "python",
   "nbconvert_exporter": "python",
   "pygments_lexer": "ipython3",
   "version": "3.11.4"
  }
 },
 "nbformat": 4,
 "nbformat_minor": 5
}
